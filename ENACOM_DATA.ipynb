{
 "cells": [
  {
   "cell_type": "code",
   "execution_count": 1,
   "metadata": {},
   "outputs": [
    {
     "name": "stdout",
     "output_type": "stream",
     "text": [
      "Defaulting to user installation because normal site-packages is not writeable\n",
      "Requirement already satisfied: numpy in /usr/lib/python3/dist-packages (1.21.5)\n",
      "Note: you may need to restart the kernel to use updated packages.\n",
      "Defaulting to user installation because normal site-packages is not writeable\n",
      "Collecting pandas\n",
      "  Downloading pandas-2.0.3-cp310-cp310-manylinux_2_17_x86_64.manylinux2014_x86_64.whl (12.3 MB)\n",
      "\u001b[2K     \u001b[90m━━━━━━━━━━━━━━━━━━━━━━━━━━━━━━━━━━━━━━━━\u001b[0m \u001b[32m12.3/12.3 MB\u001b[0m \u001b[31m5.8 MB/s\u001b[0m eta \u001b[36m0:00:00\u001b[0m00:01\u001b[0m00:01\u001b[0m\n",
      "\u001b[?25hRequirement already satisfied: pytz>=2020.1 in /usr/lib/python3/dist-packages (from pandas) (2022.1)\n",
      "Requirement already satisfied: numpy>=1.21.0 in /usr/lib/python3/dist-packages (from pandas) (1.21.5)\n",
      "Requirement already satisfied: python-dateutil>=2.8.2 in /home/fermuba/.local/lib/python3.10/site-packages (from pandas) (2.8.2)\n",
      "Collecting tzdata>=2022.1\n",
      "  Downloading tzdata-2023.3-py2.py3-none-any.whl (341 kB)\n",
      "\u001b[2K     \u001b[90m━━━━━━━━━━━━━━━━━━━━━━━━━━━━━━━━━━━━━━━\u001b[0m \u001b[32m341.8/341.8 KB\u001b[0m \u001b[31m6.2 MB/s\u001b[0m eta \u001b[36m0:00:00\u001b[0ma \u001b[36m0:00:01\u001b[0m\n",
      "\u001b[?25hRequirement already satisfied: six>=1.5 in /home/fermuba/.local/lib/python3.10/site-packages (from python-dateutil>=2.8.2->pandas) (1.16.0)\n",
      "Installing collected packages: tzdata, pandas\n",
      "Successfully installed pandas-2.0.3 tzdata-2023.3\n",
      "Note: you may need to restart the kernel to use updated packages.\n"
     ]
    }
   ],
   "source": [
    "# Instalacion de librerias\n",
    "#%pip install numpy\n",
    "#%pip install pandas"
   ]
  },
  {
   "cell_type": "code",
   "execution_count": 2,
   "metadata": {},
   "outputs": [],
   "source": [
    "# Carga de libreria\n",
    "import pandas as pd"
   ]
  },
  {
   "attachments": {},
   "cell_type": "markdown",
   "metadata": {},
   "source": [
    "# Descarga de bases de datos"
   ]
  },
  {
   "attachments": {},
   "cell_type": "markdown",
   "metadata": {},
   "source": [
    "API key = eZTohl9jwoRZV0x8dvpFsal4JSvEaZAYrvtoMuBc"
   ]
  },
  {
   "cell_type": "code",
   "execution_count": 47,
   "metadata": {},
   "outputs": [],
   "source": [
    "# Listado de localidades con conectividad a internet.\n",
    "# Listado de localidades con conectividad a internet, con detalle por tipo de conexión.\n",
    "loc_tipo_conexion = pd.read_csv('http://api.datosabiertos.enacom.gob.ar/api/v2/datastreams/LISTA-DE-LOCAL-CON-CONEC/data.csv/?auth_key=eZTohl9jwoRZV0x8dvpFsal4JSvEaZAYrvtoMuBc')"
   ]
  },
  {
   "cell_type": "code",
   "execution_count": 49,
   "metadata": {},
   "outputs": [],
   "source": [
    "# Conectividad al servicio de Internet\n",
    "# Consulta las tecnologías disponibles en tu localidad para acceder al servicio de Internet fijo y móvil\n",
    "tecnologia_loc = pd.read_csv('http://api.datosabiertos.enacom.gob.ar/api/v2/datastreams/CONEC-AL-SERVI-DE-INTER/data.csv/?auth_key=eZTohl9jwoRZV0x8dvpFsal4JSvEaZAYrvtoMuBc')"
   ]
  },
  {
   "cell_type": "code",
   "execution_count": 51,
   "metadata": {},
   "outputs": [],
   "source": [
    "# Indicadores macroeconómicos\n",
    "# Inflación, divisas y producto interno bruto\n",
    "indicadores_macro = pd.read_csv('http://api.datosabiertos.enacom.gob.ar/api/v2/datastreams/INDIC-MACRO/data.csv/?auth_key=eZTohl9jwoRZV0x8dvpFsal4JSvEaZAYrvtoMuBc')"
   ]
  },
  {
   "cell_type": "code",
   "execution_count": 55,
   "metadata": {},
   "outputs": [],
   "source": [
    "# Ingresos por la operación del servicio de Internet fijo\n",
    "# Ingresos trimestrales de los operadores por el servicio de Internet fijo\n",
    "ingreso_internet_fijo_trimestral = pd.read_csv('http://api.datosabiertos.enacom.gob.ar/api/v2/datastreams/INGRE-POR-LA-OPERA-DEL/data.csv/?auth_key=eZTohl9jwoRZV0x8dvpFsal4JSvEaZAYrvtoMuBc')"
   ]
  },
  {
   "cell_type": "code",
   "execution_count": 57,
   "metadata": {},
   "outputs": [],
   "source": [
    "# Penetración del Internet fijo por provincia (accesos por cada 100 habitantes)\n",
    "# Penetración del servicio de Internet fijo (métrica: población)\n",
    "internet_fijo_poblacion = pd.read_csv('http://api.datosabiertos.enacom.gob.ar/api/v2/datastreams/PENET-DEL-INTER-FIJO-POR/data.csv/?auth_key=eZTohl9jwoRZV0x8dvpFsal4JSvEaZAYrvtoMuBc')"
   ]
  },
  {
   "cell_type": "code",
   "execution_count": 59,
   "metadata": {},
   "outputs": [],
   "source": [
    "# Penetración del Internet fijo por provincia (accesos por cada 100 hogares)\n",
    "# Penetración del servicio de Internet fijo (métrica: hogares)\n",
    "internet_fijo_hogar = pd.read_csv('http://api.datosabiertos.enacom.gob.ar/api/v2/datastreams/PENET-DEL-INTER-FIJO-51614/data.csv/?auth_key=eZTohl9jwoRZV0x8dvpFsal4JSvEaZAYrvtoMuBc')"
   ]
  },
  {
   "cell_type": "code",
   "execution_count": 61,
   "metadata": {},
   "outputs": [],
   "source": [
    "# Penetración nacional del Internet fijo\n",
    "# Series trimestrales de la penetración del Internet fijo en las métricas por cada 100 habitantes y por cada 100 hogares\n",
    "internet_fijo_poblacion_hogar = pd.read_csv('http://api.datosabiertos.enacom.gob.ar/api/v2/datastreams/PENET-NACIO-DEL-INTER-FIJO/data.csv/?auth_key=eZTohl9jwoRZV0x8dvpFsal4JSvEaZAYrvtoMuBc')"
   ]
  },
  {
   "cell_type": "code",
   "execution_count": 63,
   "metadata": {},
   "outputs": [],
   "source": [
    "# Velocidad media de bajada de Internet (nacional)\n",
    "# Serie histórica de la velocidad media de descarga de Internet nacional (trimestral)\n",
    "veloc_media_nacional = pd.read_csv('http://api.datosabiertos.enacom.gob.ar/api/v2/datastreams/VELOC-PROME-DE-BAJAD-51733/data.csv/?auth_key=eZTohl9jwoRZV0x8dvpFsal4JSvEaZAYrvtoMuBc')"
   ]
  },
  {
   "cell_type": "code",
   "execution_count": 64,
   "metadata": {},
   "outputs": [],
   "source": [
    "# Velocidad media de bajada de Internet fijo por provincia\n",
    "# Serie histórica de la velocidad media de descarga de Internet por provincia (trimestral)\n",
    "veloc_media_prov = pd.read_csv('http://api.datosabiertos.enacom.gob.ar/api/v2/datastreams/VELOC-PROME-DE-BAJAD-DE/data.csv/?auth_key=eZTohl9jwoRZV0x8dvpFsal4JSvEaZAYrvtoMuBc')"
   ]
  },
  {
   "cell_type": "code",
   "execution_count": 65,
   "metadata": {},
   "outputs": [],
   "source": [
    "# Acceso a Internet fijo por tecnología y provincia\n",
    "# Número de accesos al servicio de Internet fijo por tipo de tecnología en cada provincia (trimestral)\n",
    "internet_tecno_prov = pd.read_csv('http://api.datosabiertos.enacom.gob.ar/api/v2/datastreams/ACCES-A-INTER-FIJO-POR/data.csv/?auth_key=eZTohl9jwoRZV0x8dvpFsal4JSvEaZAYrvtoMuBc')"
   ]
  },
  {
   "cell_type": "code",
   "execution_count": 67,
   "metadata": {},
   "outputs": [],
   "source": [
    "# Total nacional de accesos a Internet fijo por tipo de tecnología\n",
    "# Número total de accesos al servicio de Internet fijo por tipo de tecnología (trimestral)\n",
    "internet_tecno_nacional = pd.read_csv('http://api.datosabiertos.enacom.gob.ar/api/v2/datastreams/TOTAL-NACIO-DE-ACCES-A/data.csv/?auth_key=eZTohl9jwoRZV0x8dvpFsal4JSvEaZAYrvtoMuBc')"
   ]
  },
  {
   "cell_type": "code",
   "execution_count": 68,
   "metadata": {},
   "outputs": [],
   "source": [
    "# Total nacional de accesos a Internet fijo por banda ancha y banda angosta\n",
    "# Número total de accesos al servicio de Internet fijo por banda ancha y banda angosta (trimestral)\n",
    "internet_bancha_bangosta = pd.read_csv('http://api.datosabiertos.enacom.gob.ar/api/v2/datastreams/TOTAL-NACIO-DE-ACCES-48866/data.csv/?auth_key=eZTohl9jwoRZV0x8dvpFsal4JSvEaZAYrvtoMuBc')"
   ]
  },
  {
   "cell_type": "code",
   "execution_count": 69,
   "metadata": {},
   "outputs": [],
   "source": [
    "# Accesos a banda ancha y banda angosta por provincia\n",
    "# Número de accesos al servicio de Internet fijo por banda ancha y banda angosta en cada provincia (trimestral)\n",
    "internet_bancha_bangosta_prov = pd.read_csv('http://api.datosabiertos.enacom.gob.ar/api/v2/datastreams/BANDA-ANCHA-Y-BANDA-ANGOS/data.csv/?auth_key=eZTohl9jwoRZV0x8dvpFsal4JSvEaZAYrvtoMuBc')"
   ]
  },
  {
   "cell_type": "code",
   "execution_count": 70,
   "metadata": {},
   "outputs": [],
   "source": [
    "# Acceso a Internet Fijo por rangos de velocidad de bajada y provincia\n",
    "# Número de accesos al servicio de Internet fijo por velocidad de bajada en cada provincia (trimestral)\n",
    "internet_rango_vel_prov = pd.read_csv('http://api.datosabiertos.enacom.gob.ar/api/v2/datastreams/ACCES-A-INTER-FIJO-23248/data.csv/?auth_key=eZTohl9jwoRZV0x8dvpFsal4JSvEaZAYrvtoMuBc')"
   ]
  },
  {
   "cell_type": "code",
   "execution_count": 71,
   "metadata": {},
   "outputs": [],
   "source": [
    "# Total nacional de accesos a Internet fijo por velocidad de bajada\n",
    "# Número total de accesos al servicio de Internet fijo por velocidad de bajada (trimestral)\n",
    "internet_rango_vel = pd.read_csv('http://api.datosabiertos.enacom.gob.ar/api/v2/datastreams/TOTAL-NACIO-DE-ACCES-32663/data.csv/?auth_key=eZTohl9jwoRZV0x8dvpFsal4JSvEaZAYrvtoMuBc')"
   ]
  },
  {
   "cell_type": "code",
   "execution_count": 72,
   "metadata": {},
   "outputs": [],
   "source": [
    "# Accesos a Internet fijo por tecnología y localidad\n",
    "# Número de accesos al servicio de Internet fijo por tecnología en cada localidad declarada Categoría\n",
    "internet_fijo_tecno_loc = pd.read_csv('http://api.datosabiertos.enacom.gob.ar/api/v2/datastreams/ACCES-A-INTER-FIJO-62463/data.csv/?auth_key=eZTohl9jwoRZV0x8dvpFsal4JSvEaZAYrvtoMuBc')"
   ]
  },
  {
   "cell_type": "code",
   "execution_count": 74,
   "metadata": {},
   "outputs": [],
   "source": [
    "# Accesos a Internet fijo por velocidad bajada y provincia\n",
    "# Número de accesos al servicio de Internet fijo por velocidad de bajada en cada provincia\n",
    "internet_fijo_veloc_bajada_prov = pd.read_csv('http://api.datosabiertos.enacom.gob.ar/api/v2/datastreams/ACCES-A-INTER-FIJO-97624/data.csv/?auth_key=eZTohl9jwoRZV0x8dvpFsal4JSvEaZAYrvtoMuBc')"
   ]
  },
  {
   "cell_type": "code",
   "execution_count": 75,
   "metadata": {},
   "outputs": [],
   "source": [
    "# Accesos a Internet fijo por velocidad de bajada y localidad\n",
    "# Número de accesos al servicio de Internet fijo por velocidad de bajada en cada localidad declarada\n",
    "internet_fijo_veloc_bajada_loc = pd.read_csv('http://api.datosabiertos.enacom.gob.ar/api/v2/datastreams/ACCES-A-INTER-FIJO-16249/data.csv/?auth_key=eZTohl9jwoRZV0x8dvpFsal4JSvEaZAYrvtoMuBc')"
   ]
  },
  {
   "attachments": {},
   "cell_type": "markdown",
   "metadata": {},
   "source": [
    "# Descarga de datos originales"
   ]
  },
  {
   "cell_type": "code",
   "execution_count": 77,
   "metadata": {},
   "outputs": [],
   "source": [
    "# Descarga\n",
    "loc_tipo_conexion.to_csv('./ENACOM_data/loc_tipo_conexion.csv')\n",
    "tecnologia_loc.to_csv('./ENACOM_data/tecnologia_loc.csv')\n",
    "indicadores_macro.to_csv('./ENACOM_data/indicadores_macro.csv')\n",
    "ingreso_internet_fijo_trimestral.to_csv('./ENACOM_data/ingreso_internet_fijo_trimestral.csv')\n",
    "internet_fijo_poblacion.to_csv('./ENACOM_data/internet_fijo_poblacion.csv')\n",
    "internet_fijo_hogar.to_csv('./ENACOM_data/internet_fijo_hogar.csv')\n",
    "internet_fijo_poblacion_hogar.to_csv('./ENACOM_data/internet_fijo_poblacion_hogar.csv')\n",
    "veloc_media_nacional.to_csv('./ENACOM_data/veloc_media_nacional.csv')\n",
    "veloc_media_prov.to_csv('./ENACOM_data/veloc_media_prov.csv')\n",
    "internet_tecno_prov.to_csv('./ENACOM_data/internet_tecno_prov.csv')\n",
    "internet_tecno_nacional.to_csv('./ENACOM_data/internet_tecno_nacional.csv')\n",
    "internet_bancha_bangosta.to_csv('./ENACOM_data/internet_bancha_bangosta.csv')\n",
    "internet_bancha_bangosta_prov.to_csv('./ENACOM_data/internet_bancha_bangosta_prov.csv')\n",
    "internet_rango_vel_prov.to_csv('./ENACOM_data/internet_rango_vel_prov.csv')\n",
    "internet_rango_vel.to_csv('./ENACOM_data/internet_rango_vel.csv')\n",
    "internet_fijo_tecno_loc.to_csv('./ENACOM_data/internet_fijo_tecno_loc.csv')\n",
    "internet_fijo_veloc_bajada_prov.to_csv('./ENACOM_data/internet_fijo_veloc_bajada_prov.csv')\n",
    "internet_fijo_veloc_bajada_loc.to_csv('./ENACOM_data/internet_fijo_veloc_bajada_loc.csv')"
   ]
  }
 ],
 "metadata": {
  "kernelspec": {
   "display_name": "Python 3",
   "language": "python",
   "name": "python3"
  },
  "language_info": {
   "codemirror_mode": {
    "name": "ipython",
    "version": 3
   },
   "file_extension": ".py",
   "mimetype": "text/x-python",
   "name": "python",
   "nbconvert_exporter": "python",
   "pygments_lexer": "ipython3",
   "version": "3.10.11"
  },
  "orig_nbformat": 4
 },
 "nbformat": 4,
 "nbformat_minor": 2
}
